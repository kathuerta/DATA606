{
 "cells": [
  {
   "cell_type": "markdown",
   "metadata": {},
   "source": [
    "# Capstone, Part 2\n",
    "\n",
    "This dataset is provided by [healthdata.gov](https://healthdata.gov/dataset/influenza-laboratory-confirmed-cases-county-beginning-2009-10-season) and originates from [health.ny.gov](https://www.health.ny.gov/diseases/communicable/influenza/surveillance/). Dataset can be found on my github or [here](https://healthdata.gov/dataset/influenza-laboratory-confirmed-cases-county-beginning-2009-10-season). \n",
    "\n",
    "This dataset contains:\n",
    "* Season (Flu season ranging from October through the following May. For example, 2013-2014 means October 2013 - May 2014)\n",
    "* Region in NY State (Region of lab-confirmed cases. For example, Madison county is in the Central region of NY ![](Madison County Loc.jpg)\n",
    "* County (County in NY, for example, Madison County pictured above)\n",
    "* CDC Week (week number in season)\n",
    "* Week Ending Date\n",
    "* Disease (Influenza Strain - A or B)\n",
    "* Count (number of cases)\n",
    "* County Centroid (map coordinates)\n",
    "* FIPS (Federal Information Processing Standard - five digit FIPS code that uniquely identifies county and county equivalents in the United States)"
   ]
  },
  {
   "cell_type": "markdown",
   "metadata": {},
   "source": [
    "# Exploratory Data Analysis (Prelim)\n",
    "1. Import the dataset\n",
    "2. Preliminary Exploratory Data Analysis:\n",
    "    * Clean the data (if necessary)\n",
    "    * know the data types and variable types (continuous, discrete, categorical)\n",
    "    * Get summary statistics\n",
    "    * Understand how data is distributed at first glance\n",
    "    * Learn the shape and size of the data\n",
    "    * Play around with visualizations and visualize subsets"
   ]
  },
  {
   "cell_type": "markdown",
   "metadata": {},
   "source": [
    "## 1. Import the dataset, and learn more about it!"
   ]
  },
  {
   "cell_type": "code",
   "execution_count": 92,
   "metadata": {},
   "outputs": [
    {
     "data": {
      "text/html": [
       "<div>\n",
       "<style scoped>\n",
       "    .dataframe tbody tr th:only-of-type {\n",
       "        vertical-align: middle;\n",
       "    }\n",
       "\n",
       "    .dataframe tbody tr th {\n",
       "        vertical-align: top;\n",
       "    }\n",
       "\n",
       "    .dataframe thead th {\n",
       "        text-align: right;\n",
       "    }\n",
       "</style>\n",
       "<table border=\"1\" class=\"dataframe\">\n",
       "  <thead>\n",
       "    <tr style=\"text-align: right;\">\n",
       "      <th></th>\n",
       "      <th>Season</th>\n",
       "      <th>Region</th>\n",
       "      <th>County</th>\n",
       "      <th>CDC Week</th>\n",
       "      <th>Week Ending Date</th>\n",
       "      <th>Disease</th>\n",
       "      <th>Count</th>\n",
       "      <th>County Centroid</th>\n",
       "      <th>FIPS</th>\n",
       "    </tr>\n",
       "  </thead>\n",
       "  <tbody>\n",
       "    <tr>\n",
       "      <th>0</th>\n",
       "      <td>2013-2014</td>\n",
       "      <td>WESTERN</td>\n",
       "      <td>SENECA</td>\n",
       "      <td>10</td>\n",
       "      <td>03/08/2014</td>\n",
       "      <td>INFLUENZA_B</td>\n",
       "      <td>0</td>\n",
       "      <td>(42.7652, -76.8721)</td>\n",
       "      <td>36099</td>\n",
       "    </tr>\n",
       "    <tr>\n",
       "      <th>1</th>\n",
       "      <td>2011-2012</td>\n",
       "      <td>CAPITAL DISTRICT</td>\n",
       "      <td>HAMILTON</td>\n",
       "      <td>41</td>\n",
       "      <td>10/15/2011</td>\n",
       "      <td>INFLUENZA_B</td>\n",
       "      <td>0</td>\n",
       "      <td>(43.6578786, -74.5024556)</td>\n",
       "      <td>36041</td>\n",
       "    </tr>\n",
       "    <tr>\n",
       "      <th>2</th>\n",
       "      <td>2009-2010</td>\n",
       "      <td>CENTRAL</td>\n",
       "      <td>JEFFERSON</td>\n",
       "      <td>48</td>\n",
       "      <td>12/05/2009</td>\n",
       "      <td>INFLUENZA_A</td>\n",
       "      <td>3</td>\n",
       "      <td>(44.0607, -75.9928)</td>\n",
       "      <td>36045</td>\n",
       "    </tr>\n",
       "    <tr>\n",
       "      <th>3</th>\n",
       "      <td>2010-2011</td>\n",
       "      <td>CENTRAL</td>\n",
       "      <td>MADISON</td>\n",
       "      <td>51</td>\n",
       "      <td>12/25/2010</td>\n",
       "      <td>INFLUENZA_A</td>\n",
       "      <td>0</td>\n",
       "      <td>(42.9100255, -75.6635749)</td>\n",
       "      <td>36053</td>\n",
       "    </tr>\n",
       "    <tr>\n",
       "      <th>4</th>\n",
       "      <td>2013-2014</td>\n",
       "      <td>CAPITAL DISTRICT</td>\n",
       "      <td>DELAWARE</td>\n",
       "      <td>19</td>\n",
       "      <td>05/10/2014</td>\n",
       "      <td>INFLUENZA_A</td>\n",
       "      <td>1</td>\n",
       "      <td>(42.1939865, -74.966728)</td>\n",
       "      <td>36025</td>\n",
       "    </tr>\n",
       "  </tbody>\n",
       "</table>\n",
       "</div>"
      ],
      "text/plain": [
       "      Season            Region     County  CDC Week Week Ending Date  \\\n",
       "0  2013-2014           WESTERN     SENECA        10       03/08/2014   \n",
       "1  2011-2012  CAPITAL DISTRICT   HAMILTON        41       10/15/2011   \n",
       "2  2009-2010           CENTRAL  JEFFERSON        48       12/05/2009   \n",
       "3  2010-2011           CENTRAL    MADISON        51       12/25/2010   \n",
       "4  2013-2014  CAPITAL DISTRICT   DELAWARE        19       05/10/2014   \n",
       "\n",
       "       Disease  Count            County Centroid   FIPS  \n",
       "0  INFLUENZA_B      0        (42.7652, -76.8721)  36099  \n",
       "1  INFLUENZA_B      0  (43.6578786, -74.5024556)  36041  \n",
       "2  INFLUENZA_A      3        (44.0607, -75.9928)  36045  \n",
       "3  INFLUENZA_A      0  (42.9100255, -75.6635749)  36053  \n",
       "4  INFLUENZA_A      1   (42.1939865, -74.966728)  36025  "
      ]
     },
     "execution_count": 92,
     "metadata": {},
     "output_type": "execute_result"
    }
   ],
   "source": [
    "import pandas as pd\n",
    "import numpy as np\n",
    "\n",
    "flucases = pd.read_csv(\"flucases.csv\")\n",
    "flucases.head()"
   ]
  },
  {
   "cell_type": "markdown",
   "metadata": {},
   "source": [
    "Identify the shape (number of rows, number of columns) of the dataset."
   ]
  },
  {
   "cell_type": "code",
   "execution_count": 93,
   "metadata": {},
   "outputs": [
    {
     "data": {
      "text/plain": [
       "(62286, 9)"
      ]
     },
     "execution_count": 93,
     "metadata": {},
     "output_type": "execute_result"
    }
   ],
   "source": [
    "flucases.shape"
   ]
  },
  {
   "cell_type": "markdown",
   "metadata": {},
   "source": [
    "As shown by the shape, this dataset had 62,286 rows and 9 columns. Let's take a look at the summary statistics."
   ]
  },
  {
   "cell_type": "code",
   "execution_count": 94,
   "metadata": {},
   "outputs": [
    {
     "data": {
      "text/html": [
       "<div>\n",
       "<style scoped>\n",
       "    .dataframe tbody tr th:only-of-type {\n",
       "        vertical-align: middle;\n",
       "    }\n",
       "\n",
       "    .dataframe tbody tr th {\n",
       "        vertical-align: top;\n",
       "    }\n",
       "\n",
       "    .dataframe thead th {\n",
       "        text-align: right;\n",
       "    }\n",
       "</style>\n",
       "<table border=\"1\" class=\"dataframe\">\n",
       "  <thead>\n",
       "    <tr style=\"text-align: right;\">\n",
       "      <th></th>\n",
       "      <th>CDC Week</th>\n",
       "      <th>Count</th>\n",
       "      <th>FIPS</th>\n",
       "    </tr>\n",
       "  </thead>\n",
       "  <tbody>\n",
       "    <tr>\n",
       "      <th>count</th>\n",
       "      <td>62286.000000</td>\n",
       "      <td>62286.000000</td>\n",
       "      <td>62286.000000</td>\n",
       "    </tr>\n",
       "    <tr>\n",
       "      <th>mean</th>\n",
       "      <td>25.177825</td>\n",
       "      <td>9.296937</td>\n",
       "      <td>36063.378095</td>\n",
       "    </tr>\n",
       "    <tr>\n",
       "      <th>std</th>\n",
       "      <td>18.287463</td>\n",
       "      <td>47.650234</td>\n",
       "      <td>35.593393</td>\n",
       "    </tr>\n",
       "    <tr>\n",
       "      <th>min</th>\n",
       "      <td>1.000000</td>\n",
       "      <td>0.000000</td>\n",
       "      <td>36001.000000</td>\n",
       "    </tr>\n",
       "    <tr>\n",
       "      <th>25%</th>\n",
       "      <td>9.000000</td>\n",
       "      <td>0.000000</td>\n",
       "      <td>36033.000000</td>\n",
       "    </tr>\n",
       "    <tr>\n",
       "      <th>50%</th>\n",
       "      <td>18.000000</td>\n",
       "      <td>0.000000</td>\n",
       "      <td>36065.000000</td>\n",
       "    </tr>\n",
       "    <tr>\n",
       "      <th>75%</th>\n",
       "      <td>45.000000</td>\n",
       "      <td>2.000000</td>\n",
       "      <td>36095.000000</td>\n",
       "    </tr>\n",
       "    <tr>\n",
       "      <th>max</th>\n",
       "      <td>53.000000</td>\n",
       "      <td>1409.000000</td>\n",
       "      <td>36123.000000</td>\n",
       "    </tr>\n",
       "  </tbody>\n",
       "</table>\n",
       "</div>"
      ],
      "text/plain": [
       "           CDC Week         Count          FIPS\n",
       "count  62286.000000  62286.000000  62286.000000\n",
       "mean      25.177825      9.296937  36063.378095\n",
       "std       18.287463     47.650234     35.593393\n",
       "min        1.000000      0.000000  36001.000000\n",
       "25%        9.000000      0.000000  36033.000000\n",
       "50%       18.000000      0.000000  36065.000000\n",
       "75%       45.000000      2.000000  36095.000000\n",
       "max       53.000000   1409.000000  36123.000000"
      ]
     },
     "execution_count": 94,
     "metadata": {},
     "output_type": "execute_result"
    }
   ],
   "source": [
    "flucases.describe()"
   ]
  },
  {
   "cell_type": "markdown",
   "metadata": {},
   "source": [
    "Before cleaning/ preparing the data, the summary statistics can be seen above. \n",
    "\n",
    "FIPS is a code, so the summary statistics on this is not important, as it is technically a categorical variable.\n",
    "\n",
    "Now I will look at the information on the dataset, and identify the data types."
   ]
  },
  {
   "cell_type": "code",
   "execution_count": 95,
   "metadata": {},
   "outputs": [
    {
     "name": "stdout",
     "output_type": "stream",
     "text": [
      "<class 'pandas.core.frame.DataFrame'>\n",
      "RangeIndex: 62286 entries, 0 to 62285\n",
      "Data columns (total 9 columns):\n",
      "Season              62286 non-null object\n",
      "Region              62286 non-null object\n",
      "County              62286 non-null object\n",
      "CDC Week            62286 non-null int64\n",
      "Week Ending Date    62286 non-null object\n",
      "Disease             62286 non-null object\n",
      "Count               62286 non-null int64\n",
      "County Centroid     62286 non-null object\n",
      "FIPS                62286 non-null int64\n",
      "dtypes: int64(3), object(6)\n",
      "memory usage: 4.3+ MB\n"
     ]
    }
   ],
   "source": [
    "flucases.info()"
   ]
  },
  {
   "cell_type": "markdown",
   "metadata": {},
   "source": [
    "The only columns that are not objects are the CDC Week, Count, and FIPS - all of which are integers."
   ]
  },
  {
   "cell_type": "markdown",
   "metadata": {},
   "source": [
    "Let's check for missing values!"
   ]
  },
  {
   "cell_type": "code",
   "execution_count": 96,
   "metadata": {},
   "outputs": [
    {
     "data": {
      "text/plain": [
       "Season              0\n",
       "Region              0\n",
       "County              0\n",
       "CDC Week            0\n",
       "Week Ending Date    0\n",
       "Disease             0\n",
       "Count               0\n",
       "County Centroid     0\n",
       "FIPS                0\n",
       "dtype: int64"
      ]
     },
     "execution_count": 96,
     "metadata": {},
     "output_type": "execute_result"
    }
   ],
   "source": [
    "flucases.isna().sum()"
   ]
  },
  {
   "cell_type": "markdown",
   "metadata": {},
   "source": [
    "Sometimes, datasets have \"?\" where the data is unknown, so first I will convert these values (if any) to NaN."
   ]
  },
  {
   "cell_type": "code",
   "execution_count": 97,
   "metadata": {},
   "outputs": [
    {
     "data": {
      "text/plain": [
       "Season              0\n",
       "Region              0\n",
       "County              0\n",
       "CDC Week            0\n",
       "Week Ending Date    0\n",
       "Disease             0\n",
       "Count               0\n",
       "County Centroid     0\n",
       "FIPS                0\n",
       "dtype: int64"
      ]
     },
     "execution_count": 97,
     "metadata": {},
     "output_type": "execute_result"
    }
   ],
   "source": [
    "flucases.replace(\"?\", np.NaN, inplace=True)\n",
    "flucases.isna().sum()"
   ]
  },
  {
   "cell_type": "markdown",
   "metadata": {},
   "source": [
    "Great! No missing values here."
   ]
  },
  {
   "cell_type": "markdown",
   "metadata": {},
   "source": [
    "[Terence Shin](https://towardsdatascience.com/an-extensive-guide-to-exploratory-data-analysis-ddd99a03199e) [3] demonstrated a good way to identify the unique values. This will show what variables we can expect from each column (most importantly, for categorical variables). Additionally, it will reveal any NaN-equivalent values a dataset may contain. \n"
   ]
  },
  {
   "cell_type": "code",
   "execution_count": 98,
   "metadata": {},
   "outputs": [
    {
     "data": {
      "text/html": [
       "<div>\n",
       "<style scoped>\n",
       "    .dataframe tbody tr th:only-of-type {\n",
       "        vertical-align: middle;\n",
       "    }\n",
       "\n",
       "    .dataframe tbody tr th {\n",
       "        vertical-align: top;\n",
       "    }\n",
       "\n",
       "    .dataframe thead th {\n",
       "        text-align: right;\n",
       "    }\n",
       "</style>\n",
       "<table border=\"1\" class=\"dataframe\">\n",
       "  <thead>\n",
       "    <tr style=\"text-align: right;\">\n",
       "      <th></th>\n",
       "      <th>CDC Week</th>\n",
       "      <th>Count</th>\n",
       "      <th>FIPS</th>\n",
       "    </tr>\n",
       "  </thead>\n",
       "  <tbody>\n",
       "    <tr>\n",
       "      <th>count</th>\n",
       "      <td>62286.000000</td>\n",
       "      <td>62286.000000</td>\n",
       "      <td>62286.000000</td>\n",
       "    </tr>\n",
       "    <tr>\n",
       "      <th>mean</th>\n",
       "      <td>25.177825</td>\n",
       "      <td>9.296937</td>\n",
       "      <td>36063.378095</td>\n",
       "    </tr>\n",
       "    <tr>\n",
       "      <th>std</th>\n",
       "      <td>18.287463</td>\n",
       "      <td>47.650234</td>\n",
       "      <td>35.593393</td>\n",
       "    </tr>\n",
       "    <tr>\n",
       "      <th>min</th>\n",
       "      <td>1.000000</td>\n",
       "      <td>0.000000</td>\n",
       "      <td>36001.000000</td>\n",
       "    </tr>\n",
       "    <tr>\n",
       "      <th>25%</th>\n",
       "      <td>9.000000</td>\n",
       "      <td>0.000000</td>\n",
       "      <td>36033.000000</td>\n",
       "    </tr>\n",
       "    <tr>\n",
       "      <th>50%</th>\n",
       "      <td>18.000000</td>\n",
       "      <td>0.000000</td>\n",
       "      <td>36065.000000</td>\n",
       "    </tr>\n",
       "    <tr>\n",
       "      <th>75%</th>\n",
       "      <td>45.000000</td>\n",
       "      <td>2.000000</td>\n",
       "      <td>36095.000000</td>\n",
       "    </tr>\n",
       "    <tr>\n",
       "      <th>max</th>\n",
       "      <td>53.000000</td>\n",
       "      <td>1409.000000</td>\n",
       "      <td>36123.000000</td>\n",
       "    </tr>\n",
       "  </tbody>\n",
       "</table>\n",
       "</div>"
      ],
      "text/plain": [
       "           CDC Week         Count          FIPS\n",
       "count  62286.000000  62286.000000  62286.000000\n",
       "mean      25.177825      9.296937  36063.378095\n",
       "std       18.287463     47.650234     35.593393\n",
       "min        1.000000      0.000000  36001.000000\n",
       "25%        9.000000      0.000000  36033.000000\n",
       "50%       18.000000      0.000000  36065.000000\n",
       "75%       45.000000      2.000000  36095.000000\n",
       "max       53.000000   1409.000000  36123.000000"
      ]
     },
     "execution_count": 98,
     "metadata": {},
     "output_type": "execute_result"
    }
   ],
   "source": [
    "# better understand different values for each variable\n",
    "flucases.nunique(axis=0)\n",
    "flucases.describe().apply(lambda s: s.apply(lambda x: format(x, 'f')))"
   ]
  },
  {
   "cell_type": "markdown",
   "metadata": {},
   "source": [
    "* `.nunique(axis=0)` returns the number of unique values for each variable\n",
    "* `.describe()` summarizes the count, mean, std, etc (everything shown earlier).\n",
    "* The remaining code in the cell above formats each row to a regular format and suppresses scientific notation (though this may not be needed here, it is good practice in preliminary EDA [[4](https://towardsdatascience.com/an-extensive-guide-to-exploratory-data-analysis-ddd99a03199e)].\n",
    "\n",
    "So far... this makes sense. It is reasonable for at some point in time (perhaps in the very beginning of the season at an instance in time, there are no reported flu cases, indicated in `Count`). Visualizing the distribution will be more useful, and visualizing the data will help identify outliers. "
   ]
  },
  {
   "cell_type": "code",
   "execution_count": 99,
   "metadata": {},
   "outputs": [
    {
     "data": {
      "text/html": [
       "<div>\n",
       "<style scoped>\n",
       "    .dataframe tbody tr th:only-of-type {\n",
       "        vertical-align: middle;\n",
       "    }\n",
       "\n",
       "    .dataframe tbody tr th {\n",
       "        vertical-align: top;\n",
       "    }\n",
       "\n",
       "    .dataframe thead th {\n",
       "        text-align: right;\n",
       "    }\n",
       "</style>\n",
       "<table border=\"1\" class=\"dataframe\">\n",
       "  <thead>\n",
       "    <tr style=\"text-align: right;\">\n",
       "      <th></th>\n",
       "      <th>Season</th>\n",
       "      <th>Region</th>\n",
       "      <th>County</th>\n",
       "      <th>CDC_Week</th>\n",
       "      <th>Week_Ending_Date</th>\n",
       "      <th>Disease</th>\n",
       "      <th>Count</th>\n",
       "      <th>County_Centroid</th>\n",
       "      <th>FIPS</th>\n",
       "    </tr>\n",
       "  </thead>\n",
       "  <tbody>\n",
       "    <tr>\n",
       "      <th>0</th>\n",
       "      <td>2013-2014</td>\n",
       "      <td>WESTERN</td>\n",
       "      <td>SENECA</td>\n",
       "      <td>10</td>\n",
       "      <td>03/08/2014</td>\n",
       "      <td>INFLUENZA_B</td>\n",
       "      <td>0</td>\n",
       "      <td>(42.7652, -76.8721)</td>\n",
       "      <td>36099</td>\n",
       "    </tr>\n",
       "    <tr>\n",
       "      <th>1</th>\n",
       "      <td>2011-2012</td>\n",
       "      <td>CAPITAL DISTRICT</td>\n",
       "      <td>HAMILTON</td>\n",
       "      <td>41</td>\n",
       "      <td>10/15/2011</td>\n",
       "      <td>INFLUENZA_B</td>\n",
       "      <td>0</td>\n",
       "      <td>(43.6578786, -74.5024556)</td>\n",
       "      <td>36041</td>\n",
       "    </tr>\n",
       "    <tr>\n",
       "      <th>2</th>\n",
       "      <td>2009-2010</td>\n",
       "      <td>CENTRAL</td>\n",
       "      <td>JEFFERSON</td>\n",
       "      <td>48</td>\n",
       "      <td>12/05/2009</td>\n",
       "      <td>INFLUENZA_A</td>\n",
       "      <td>3</td>\n",
       "      <td>(44.0607, -75.9928)</td>\n",
       "      <td>36045</td>\n",
       "    </tr>\n",
       "    <tr>\n",
       "      <th>3</th>\n",
       "      <td>2010-2011</td>\n",
       "      <td>CENTRAL</td>\n",
       "      <td>MADISON</td>\n",
       "      <td>51</td>\n",
       "      <td>12/25/2010</td>\n",
       "      <td>INFLUENZA_A</td>\n",
       "      <td>0</td>\n",
       "      <td>(42.9100255, -75.6635749)</td>\n",
       "      <td>36053</td>\n",
       "    </tr>\n",
       "    <tr>\n",
       "      <th>4</th>\n",
       "      <td>2013-2014</td>\n",
       "      <td>CAPITAL DISTRICT</td>\n",
       "      <td>DELAWARE</td>\n",
       "      <td>19</td>\n",
       "      <td>05/10/2014</td>\n",
       "      <td>INFLUENZA_A</td>\n",
       "      <td>1</td>\n",
       "      <td>(42.1939865, -74.966728)</td>\n",
       "      <td>36025</td>\n",
       "    </tr>\n",
       "  </tbody>\n",
       "</table>\n",
       "</div>"
      ],
      "text/plain": [
       "      Season            Region     County  CDC_Week Week_Ending_Date  \\\n",
       "0  2013-2014           WESTERN     SENECA        10       03/08/2014   \n",
       "1  2011-2012  CAPITAL DISTRICT   HAMILTON        41       10/15/2011   \n",
       "2  2009-2010           CENTRAL  JEFFERSON        48       12/05/2009   \n",
       "3  2010-2011           CENTRAL    MADISON        51       12/25/2010   \n",
       "4  2013-2014  CAPITAL DISTRICT   DELAWARE        19       05/10/2014   \n",
       "\n",
       "       Disease  Count            County_Centroid   FIPS  \n",
       "0  INFLUENZA_B      0        (42.7652, -76.8721)  36099  \n",
       "1  INFLUENZA_B      0  (43.6578786, -74.5024556)  36041  \n",
       "2  INFLUENZA_A      3        (44.0607, -75.9928)  36045  \n",
       "3  INFLUENZA_A      0  (42.9100255, -75.6635749)  36053  \n",
       "4  INFLUENZA_A      1   (42.1939865, -74.966728)  36025  "
      ]
     },
     "execution_count": 99,
     "metadata": {},
     "output_type": "execute_result"
    }
   ],
   "source": [
    "# Making a dataframe so the columns are easier to use\n",
    "df = flucases\n",
    "df = df.rename(columns = {\"CDC Week\":\"CDC_Week\", \"Week Ending Date\":\"Week_Ending_Date\",\n",
    "                    \"County Centroid\":\"County_Centroid\"})\n",
    "df.head(5)"
   ]
  },
  {
   "cell_type": "markdown",
   "metadata": {},
   "source": [
    "Let's take a look at all of the unique variables!"
   ]
  },
  {
   "cell_type": "code",
   "execution_count": 100,
   "metadata": {},
   "outputs": [
    {
     "name": "stdout",
     "output_type": "stream",
     "text": [
      "Season Variables ['2013-2014' '2011-2012' '2009-2010' '2010-2011' '2012-2013' '2014-2015'\n",
      " '2016-2017' '2015-2016' '2018-2019' '2017-2018' '2019-2020']\n",
      "\n",
      "Region Variables ['WESTERN' 'CAPITAL DISTRICT' 'CENTRAL' 'METRO' 'NYC']\n",
      "\n",
      "County Variables ['SENECA' 'HAMILTON' 'JEFFERSON' 'MADISON' 'DELAWARE' 'CHEMUNG' 'FULTON'\n",
      " 'SULLIVAN' 'SCHOHARIE' 'ROCKLAND' 'ESSEX' 'KINGS' 'SCHENECTADY'\n",
      " 'COLUMBIA' 'ALBANY' 'FRANKLIN' 'ST LAWRENCE' 'WASHINGTON' 'WESTCHESTER'\n",
      " 'PUTNAM' 'BRONX' 'DUTCHESS' 'NEW YORK' 'CHENANGO' 'GENESEE' 'NASSAU'\n",
      " 'CATTARAUGUS' 'ORANGE' 'LEWIS' 'CHAUTAUQUA' 'ONONDAGA' 'ERIE' 'GREENE'\n",
      " 'OTSEGO' 'WYOMING' 'CORTLAND' 'NIAGARA' 'STEUBEN' 'MONTGOMERY' 'ORLEANS'\n",
      " 'RICHMOND' 'SARATOGA' 'TIOGA' 'OSWEGO' 'MONROE' 'ONEIDA' 'CLINTON'\n",
      " 'ULSTER' 'QUEENS' 'RENSSELAER' 'BROOME' 'SUFFOLK' 'LIVINGSTON' 'WAYNE'\n",
      " 'TOMPKINS' 'ALLEGANY' 'YATES' 'ONTARIO' 'CAYUGA' 'HERKIMER' 'WARREN'\n",
      " 'SCHUYLER']\n",
      "\n",
      "CDC Week Variables [10 41 48 51 19 18 50 47 11  8 49 17  1 43 46  6  2 12 14 42 52 20 15 40\n",
      "  9 16 45  3  5 13  7  4 44 53]\n",
      "\n",
      "\n",
      "Disease Variables ['INFLUENZA_B' 'INFLUENZA_A' 'INFLUENZA_UNSPECIFIED']\n",
      "\n",
      "\n"
     ]
    }
   ],
   "source": [
    "# Ones that are comments have lengthy outputs, but feel free to check them out if you feel like it\n",
    "print(\"Season Variables\", df.Season.unique())\n",
    "print(\"\")\n",
    "print(\"Region Variables\", df.Region.unique())\n",
    "print(\"\")\n",
    "print(\"County Variables\", df.County.unique())\n",
    "print(\"\")\n",
    "print(\"CDC Week Variables\", df.CDC_Week.unique())\n",
    "print(\"\")\n",
    "# print(\"Week Ending Date Variables\", df.Week_Ending_Date.unique()) this is a long one\n",
    "print(\"\")\n",
    "print(\"Disease Variables\", df.Disease.unique())\n",
    "print(\"\")\n",
    "# print(\"Count Variables\", df.Count.unique()) this might be long, so will look at later\n",
    "# print(\"County Centroid Variables\", df.County_Centroid.unique())\n",
    "print(\"\")\n",
    "# print(\"FIPS Variables\", df.FIPS.unique())"
   ]
  },
  {
   "cell_type": "markdown",
   "metadata": {},
   "source": [
    "Note how there are three variables for Disease: Influenza A, B or **unspecified**. My question is - if these are lab confirmed cases, why would the strain be unpecified? This is certainly something I need to look into.\n",
    "\n",
    "Now I want to simply look at the number of unique variables for each feature."
   ]
  },
  {
   "cell_type": "code",
   "execution_count": 101,
   "metadata": {},
   "outputs": [
    {
     "name": "stdout",
     "output_type": "stream",
     "text": [
      "Number of Unique Season Variables: 11\n",
      "\n",
      "Number of Unique Region Variables: 5\n",
      "\n",
      "Number of Unique County Variables: 62\n",
      "\n",
      "Number of Unique CDC Week Variables: 34\n",
      "\n",
      "Number of Unique Week Ending Date Variables: 347\n",
      "\n",
      "Number of Unique Disease Variables: 3\n",
      "\n",
      "Number of Unique Count Variables: 530\n",
      "\n",
      "Number of Unique County Centroid Variables: 62\n",
      "\n",
      "Number of Unique FIPS Variables: 62\n"
     ]
    }
   ],
   "source": [
    "print(\"Number of Unique Season Variables:\", df.Season.nunique())\n",
    "print(\"\")\n",
    "print(\"Number of Unique Region Variables:\", df.Region.nunique())\n",
    "print(\"\")\n",
    "print(\"Number of Unique County Variables:\", df.County.nunique())\n",
    "print(\"\")\n",
    "print(\"Number of Unique CDC Week Variables:\", df.CDC_Week.nunique())\n",
    "print(\"\")\n",
    "print(\"Number of Unique Week Ending Date Variables:\", df.Week_Ending_Date.nunique())\n",
    "print(\"\")\n",
    "print(\"Number of Unique Disease Variables:\", df.Disease.nunique())\n",
    "print(\"\")\n",
    "print(\"Number of Unique Count Variables:\", df.Count.nunique()) \n",
    "print(\"\")\n",
    "print(\"Number of Unique County Centroid Variables:\", df.County_Centroid.nunique())\n",
    "print(\"\")\n",
    "print(\"Number of Unique FIPS Variables:\", df.FIPS.nunique())"
   ]
  },
  {
   "cell_type": "markdown",
   "metadata": {},
   "source": [
    "**Note** how the number of unique County, Centroid, and FIPS variables are the same. This is good, because they all represent a single county, meaning there are 62 counties. If these numbers were different, there would be an issue (i.e. a missing value in one or more of the columns - which could be fixed easily, but is important to check)."
   ]
  },
  {
   "cell_type": "markdown",
   "metadata": {},
   "source": [
    "One important step in EDA is identifying whether our features are continuos, discrete, or categorical. This is simple, and if you don't know the difference, it is simple to google! \n",
    "\n",
    "* Season: Discrete\n",
    "* Region: Categorical\n",
    "* County: Categorical\n",
    "* CDC Week: Discrete\n",
    "* Week Ending Date: Discrete\n",
    "* Disease: Categorical\n",
    "* Count: Discrete (Why? Because it is an integer and can only be an integer! There cannot be 1.2 humans with confirmed influenza)\n",
    "* County Centroid: Continuous\n",
    "* FIPS: Categorical"
   ]
  },
  {
   "cell_type": "markdown",
   "metadata": {},
   "source": [
    "I came across code from [Pierre Sadrach](https://medium.com/swlh/analyzing-county-level-cdc-flu-data-in-python-8518dd8c43c7) that performs EDA on this same dataset. This article defines a function that takes a data frame, column name, and limit as an input, and prints a dictionary of categorical values and their frequency.[[4](https://medium.com/swlh/analyzing-county-level-cdc-flu-data-in-python-8518dd8c43c7)]\n",
    "\n",
    "He also provides code that defines a function to return summary statistics for each county. \n",
    "\n",
    "I'll use this code for showing county level summary statistics, and the counter, but will analyze other subsets on my own. "
   ]
  },
  {
   "cell_type": "code",
   "execution_count": 102,
   "metadata": {},
   "outputs": [],
   "source": [
    "import collections\n",
    "from collections import Counter"
   ]
  },
  {
   "cell_type": "code",
   "execution_count": 103,
   "metadata": {},
   "outputs": [
    {
     "name": "stdout",
     "output_type": "stream",
     "text": [
      "{'SENECA': 1041, 'MADISON': 1041, 'SULLIVAN': 1041, 'SCHOHARIE': 1041, 'ROCKLAND': 1041, 'KINGS': 1041, 'SCHENECTADY': 1041, 'ST LAWRENCE': 1041, 'WASHINGTON': 1041, 'WESTCHESTER': 1041}\n"
     ]
    }
   ],
   "source": [
    "def return_counter(data_frame, column_name, limit):\n",
    "    print(dict(Counter(data_frame[column_name].values).most_common(limit)))\n",
    "\n",
    "# Apply this function to the County column, limiting the results to the\n",
    "# ten most common values.\n",
    "\n",
    "return_counter(df, 'County', 10)"
   ]
  },
  {
   "cell_type": "markdown",
   "metadata": {},
   "source": [
    "All counties have the same number of records, which is good, but will check the entire dictionary."
   ]
  },
  {
   "cell_type": "code",
   "execution_count": 104,
   "metadata": {},
   "outputs": [],
   "source": [
    "def return_counter(data_frame, column_name):\n",
    "    from collections import Counter    \n",
    "    print(dict(Counter(data_frame[column_name].values)))"
   ]
  },
  {
   "cell_type": "code",
   "execution_count": 105,
   "metadata": {},
   "outputs": [
    {
     "name": "stdout",
     "output_type": "stream",
     "text": [
      "{'SENECA': 1041, 'HAMILTON': 939, 'JEFFERSON': 939, 'MADISON': 1041, 'DELAWARE': 939, 'CHEMUNG': 939, 'FULTON': 939, 'SULLIVAN': 1041, 'SCHOHARIE': 1041, 'ROCKLAND': 1041, 'ESSEX': 939, 'KINGS': 1041, 'SCHENECTADY': 1041, 'COLUMBIA': 939, 'ALBANY': 939, 'FRANKLIN': 939, 'ST LAWRENCE': 1041, 'WASHINGTON': 1041, 'WESTCHESTER': 1041, 'PUTNAM': 1041, 'BRONX': 1041, 'DUTCHESS': 939, 'NEW YORK': 1041, 'CHENANGO': 939, 'GENESEE': 939, 'NASSAU': 1041, 'CATTARAUGUS': 939, 'ORANGE': 1041, 'LEWIS': 1029, 'CHAUTAUQUA': 939, 'ONONDAGA': 1041, 'ERIE': 939, 'GREENE': 939, 'OTSEGO': 1041, 'WYOMING': 1041, 'CORTLAND': 939, 'NIAGARA': 1041, 'STEUBEN': 1041, 'MONTGOMERY': 1041, 'ORLEANS': 1041, 'RICHMOND': 1041, 'SARATOGA': 1041, 'TIOGA': 1041, 'OSWEGO': 1041, 'MONROE': 1041, 'ONEIDA': 1041, 'CLINTON': 939, 'ULSTER': 1041, 'QUEENS': 1041, 'RENSSELAER': 1041, 'BROOME': 939, 'SUFFOLK': 1041, 'LIVINGSTON': 1041, 'WAYNE': 1041, 'TOMPKINS': 1041, 'ALLEGANY': 939, 'YATES': 1041, 'ONTARIO': 1041, 'CAYUGA': 939, 'HERKIMER': 939, 'WARREN': 1041, 'SCHUYLER': 1041}\n"
     ]
    }
   ],
   "source": [
    "# Return new return_counter function\n",
    "return_counter(df, 'County')"
   ]
  },
  {
   "cell_type": "markdown",
   "metadata": {},
   "source": [
    "Counties have either 1041 or 939 records. Now I will apply this function to the Disease column."
   ]
  },
  {
   "cell_type": "code",
   "execution_count": 106,
   "metadata": {},
   "outputs": [
    {
     "name": "stdout",
     "output_type": "stream",
     "text": [
      "{'INFLUENZA_B': 20762, 'INFLUENZA_A': 20762, 'INFLUENZA_UNSPECIFIED': 20762}\n"
     ]
    }
   ],
   "source": [
    "return_counter(df, 'Disease')"
   ]
  },
  {
   "cell_type": "markdown",
   "metadata": {},
   "source": [
    "20,762 unspecified flu cases. I am still not sure if I should remove the unspecified cases.\n",
    "\n",
    "The source cited above defines a function that takes a df, a categorical and numerical colum. The mean and sd of the numerical column for each category will be stored in a dataframe and will be sorted in descending order with respect to the mean. This will help with identifying categories with higher/lower means or standard deviations for a given numerical column. This code is from [[source 4](https://medium.com/swlh/analyzing-county-level-cdc-flu-data-in-python-8518dd8c43c7)]"
   ]
  },
  {
   "cell_type": "code",
   "execution_count": 107,
   "metadata": {},
   "outputs": [],
   "source": [
    "def return_statistics(data_frame, categorical_column, numerical_column):\n",
    "    mean = []\n",
    "    std = []\n",
    "    field = []\n",
    "    for i in set(list(data_frame[categorical_column].values)):\n",
    "        new_data = data_frame[data_frame[categorical_column] == i]\n",
    "        field.append(i)\n",
    "        mean.append(new_data[numerical_column].mean())\n",
    "        std.append(new_data[numerical_column].std())\n",
    "    df = pd.DataFrame({'{}'.format(categorical_column): field, 'mean {}'.format(numerical_column): mean, 'std in {}'.format(numerical_column): std})\n",
    "    df.sort_values('mean {}'.format(numerical_column), inplace = True, ascending = False)\n",
    "    df.dropna(inplace = True)\n",
    "    return df"
   ]
  },
  {
   "cell_type": "code",
   "execution_count": 108,
   "metadata": {},
   "outputs": [
    {
     "name": "stdout",
     "output_type": "stream",
     "text": [
      "         County  mean Count  std in Count\n",
      "35       QUEENS   56.145053    154.922881\n",
      "33        BRONX   55.832853    153.846542\n",
      "51        KINGS   49.337176    148.567469\n",
      "55      SUFFOLK   38.211335     94.802505\n",
      "7        NASSAU   37.706052     87.722235\n",
      "50  WESTCHESTER   35.200768     90.065751\n",
      "46       MONROE   33.967339     93.078260\n",
      "3      NEW YORK   28.772334     71.684304\n",
      "23         ERIE   22.892439     67.592029\n",
      "38     ONONDAGA   17.941402     46.240461\n",
      "14       ONEIDA   17.635927     49.673560\n",
      "41       ORANGE    9.899135     25.534675\n",
      "29       BROOME    9.443024     29.540109\n",
      "57     RICHMOND    8.455331     23.474622\n",
      "28     SARATOGA    8.443804     22.557724\n",
      "10       ALBANY    6.783813     18.029031\n",
      "36  SCHENECTADY    6.697406     20.253530\n",
      "4      DUTCHESS    6.565495     17.509751\n",
      "5        OSWEGO    6.435159     18.312666\n",
      "39     ROCKLAND    6.273775     18.787398\n"
     ]
    }
   ],
   "source": [
    "# Look at summary statistics for County and Count\n",
    "sum_stats = return_statistics(df, 'County', 'Count')\n",
    "print(sum_stats.head(20))"
   ]
  },
  {
   "cell_type": "markdown",
   "metadata": {},
   "source": [
    "### Observations on summary statistics\n",
    "Queens county has the highest mean _and_ standard deviation in the number of confirmed influenza cases."
   ]
  },
  {
   "cell_type": "markdown",
   "metadata": {},
   "source": [
    "Now I would like to make subsets and play around with the data, and make some basic visualizations. First I want to look at Queens county, because this county has the highest mean and standard deviation!"
   ]
  },
  {
   "cell_type": "code",
   "execution_count": 111,
   "metadata": {},
   "outputs": [
    {
     "data": {
      "text/html": [
       "<div>\n",
       "<style scoped>\n",
       "    .dataframe tbody tr th:only-of-type {\n",
       "        vertical-align: middle;\n",
       "    }\n",
       "\n",
       "    .dataframe tbody tr th {\n",
       "        vertical-align: top;\n",
       "    }\n",
       "\n",
       "    .dataframe thead th {\n",
       "        text-align: right;\n",
       "    }\n",
       "</style>\n",
       "<table border=\"1\" class=\"dataframe\">\n",
       "  <thead>\n",
       "    <tr style=\"text-align: right;\">\n",
       "      <th></th>\n",
       "      <th>Season</th>\n",
       "      <th>Region</th>\n",
       "      <th>County</th>\n",
       "      <th>CDC_Week</th>\n",
       "      <th>Week_Ending_Date</th>\n",
       "      <th>Disease</th>\n",
       "      <th>Count</th>\n",
       "      <th>County_Centroid</th>\n",
       "      <th>FIPS</th>\n",
       "    </tr>\n",
       "  </thead>\n",
       "  <tbody>\n",
       "    <tr>\n",
       "      <th>103</th>\n",
       "      <td>2011-2012</td>\n",
       "      <td>NYC</td>\n",
       "      <td>QUEENS</td>\n",
       "      <td>41</td>\n",
       "      <td>10/15/2011</td>\n",
       "      <td>INFLUENZA_A</td>\n",
       "      <td>0</td>\n",
       "      <td>(40.7282, -73.7949)</td>\n",
       "      <td>36081</td>\n",
       "    </tr>\n",
       "    <tr>\n",
       "      <th>371</th>\n",
       "      <td>2010-2011</td>\n",
       "      <td>NYC</td>\n",
       "      <td>QUEENS</td>\n",
       "      <td>13</td>\n",
       "      <td>04/02/2011</td>\n",
       "      <td>INFLUENZA_UNSPECIFIED</td>\n",
       "      <td>0</td>\n",
       "      <td>(40.7282, -73.7949)</td>\n",
       "      <td>36081</td>\n",
       "    </tr>\n",
       "    <tr>\n",
       "      <th>372</th>\n",
       "      <td>2012-2013</td>\n",
       "      <td>NYC</td>\n",
       "      <td>QUEENS</td>\n",
       "      <td>19</td>\n",
       "      <td>05/11/2013</td>\n",
       "      <td>INFLUENZA_UNSPECIFIED</td>\n",
       "      <td>0</td>\n",
       "      <td>(40.7282, -73.7949)</td>\n",
       "      <td>36081</td>\n",
       "    </tr>\n",
       "    <tr>\n",
       "      <th>428</th>\n",
       "      <td>2009-2010</td>\n",
       "      <td>NYC</td>\n",
       "      <td>QUEENS</td>\n",
       "      <td>4</td>\n",
       "      <td>01/30/2010</td>\n",
       "      <td>INFLUENZA_B</td>\n",
       "      <td>1</td>\n",
       "      <td>(40.7282, -73.7949)</td>\n",
       "      <td>36081</td>\n",
       "    </tr>\n",
       "    <tr>\n",
       "      <th>472</th>\n",
       "      <td>2010-2011</td>\n",
       "      <td>NYC</td>\n",
       "      <td>QUEENS</td>\n",
       "      <td>11</td>\n",
       "      <td>03/19/2011</td>\n",
       "      <td>INFLUENZA_B</td>\n",
       "      <td>27</td>\n",
       "      <td>(40.7282, -73.7949)</td>\n",
       "      <td>36081</td>\n",
       "    </tr>\n",
       "  </tbody>\n",
       "</table>\n",
       "</div>"
      ],
      "text/plain": [
       "        Season Region  County  CDC_Week Week_Ending_Date  \\\n",
       "103  2011-2012    NYC  QUEENS        41       10/15/2011   \n",
       "371  2010-2011    NYC  QUEENS        13       04/02/2011   \n",
       "372  2012-2013    NYC  QUEENS        19       05/11/2013   \n",
       "428  2009-2010    NYC  QUEENS         4       01/30/2010   \n",
       "472  2010-2011    NYC  QUEENS        11       03/19/2011   \n",
       "\n",
       "                   Disease  Count      County_Centroid   FIPS  \n",
       "103            INFLUENZA_A      0  (40.7282, -73.7949)  36081  \n",
       "371  INFLUENZA_UNSPECIFIED      0  (40.7282, -73.7949)  36081  \n",
       "372  INFLUENZA_UNSPECIFIED      0  (40.7282, -73.7949)  36081  \n",
       "428            INFLUENZA_B      1  (40.7282, -73.7949)  36081  \n",
       "472            INFLUENZA_B     27  (40.7282, -73.7949)  36081  "
      ]
     },
     "execution_count": 111,
     "metadata": {},
     "output_type": "execute_result"
    }
   ],
   "source": [
    "# making a subset:\n",
    "\n",
    "subset_queens = df.loc[(df[\"County\"]==\"QUEENS\")]\n",
    "subset_queens.head()\n"
   ]
  },
  {
   "cell_type": "code",
   "execution_count": 112,
   "metadata": {},
   "outputs": [],
   "source": [
    "# We know the county, and location information, and at this point,\n",
    "# I am interested in the distribution because Queens county has the highest\n",
    "# mean and standard deviation in the number of confirmed flu cases\n",
    "\n",
    "subset_queens = subset_queens[[\"Season\", \"CDC_Week\", \"Week_Ending_Date\",\n",
    "                              \"Disease\", \"Count\"]]"
   ]
  },
  {
   "cell_type": "code",
   "execution_count": 113,
   "metadata": {},
   "outputs": [
    {
     "data": {
      "text/html": [
       "<div>\n",
       "<style scoped>\n",
       "    .dataframe tbody tr th:only-of-type {\n",
       "        vertical-align: middle;\n",
       "    }\n",
       "\n",
       "    .dataframe tbody tr th {\n",
       "        vertical-align: top;\n",
       "    }\n",
       "\n",
       "    .dataframe thead th {\n",
       "        text-align: right;\n",
       "    }\n",
       "</style>\n",
       "<table border=\"1\" class=\"dataframe\">\n",
       "  <thead>\n",
       "    <tr style=\"text-align: right;\">\n",
       "      <th></th>\n",
       "      <th>Season</th>\n",
       "      <th>CDC_Week</th>\n",
       "      <th>Week_Ending_Date</th>\n",
       "      <th>Disease</th>\n",
       "      <th>Count</th>\n",
       "    </tr>\n",
       "  </thead>\n",
       "  <tbody>\n",
       "    <tr>\n",
       "      <th>103</th>\n",
       "      <td>2011-2012</td>\n",
       "      <td>41</td>\n",
       "      <td>10/15/2011</td>\n",
       "      <td>INFLUENZA_A</td>\n",
       "      <td>0</td>\n",
       "    </tr>\n",
       "    <tr>\n",
       "      <th>371</th>\n",
       "      <td>2010-2011</td>\n",
       "      <td>13</td>\n",
       "      <td>04/02/2011</td>\n",
       "      <td>INFLUENZA_UNSPECIFIED</td>\n",
       "      <td>0</td>\n",
       "    </tr>\n",
       "    <tr>\n",
       "      <th>372</th>\n",
       "      <td>2012-2013</td>\n",
       "      <td>19</td>\n",
       "      <td>05/11/2013</td>\n",
       "      <td>INFLUENZA_UNSPECIFIED</td>\n",
       "      <td>0</td>\n",
       "    </tr>\n",
       "    <tr>\n",
       "      <th>428</th>\n",
       "      <td>2009-2010</td>\n",
       "      <td>4</td>\n",
       "      <td>01/30/2010</td>\n",
       "      <td>INFLUENZA_B</td>\n",
       "      <td>1</td>\n",
       "    </tr>\n",
       "    <tr>\n",
       "      <th>472</th>\n",
       "      <td>2010-2011</td>\n",
       "      <td>11</td>\n",
       "      <td>03/19/2011</td>\n",
       "      <td>INFLUENZA_B</td>\n",
       "      <td>27</td>\n",
       "    </tr>\n",
       "  </tbody>\n",
       "</table>\n",
       "</div>"
      ],
      "text/plain": [
       "        Season  CDC_Week Week_Ending_Date                Disease  Count\n",
       "103  2011-2012        41       10/15/2011            INFLUENZA_A      0\n",
       "371  2010-2011        13       04/02/2011  INFLUENZA_UNSPECIFIED      0\n",
       "372  2012-2013        19       05/11/2013  INFLUENZA_UNSPECIFIED      0\n",
       "428  2009-2010         4       01/30/2010            INFLUENZA_B      1\n",
       "472  2010-2011        11       03/19/2011            INFLUENZA_B     27"
      ]
     },
     "execution_count": 113,
     "metadata": {},
     "output_type": "execute_result"
    }
   ],
   "source": [
    "subset_queens.head()"
   ]
  },
  {
   "cell_type": "code",
   "execution_count": 114,
   "metadata": {},
   "outputs": [
    {
     "data": {
      "text/plain": [
       "count    1041.000000\n",
       "mean       56.145053\n",
       "std       154.922881\n",
       "min         0.000000\n",
       "25%         0.000000\n",
       "50%         3.000000\n",
       "75%        25.000000\n",
       "max      1213.000000\n",
       "Name: Count, dtype: float64"
      ]
     },
     "execution_count": 114,
     "metadata": {},
     "output_type": "execute_result"
    }
   ],
   "source": [
    "subset_queens[\"Count\"].describe()"
   ]
  },
  {
   "cell_type": "code",
   "execution_count": 115,
   "metadata": {},
   "outputs": [],
   "source": [
    "# What about Seasons?\n",
    "subset_queens.sort_values(by=['Season','CDC_Week'], inplace=True)"
   ]
  },
  {
   "cell_type": "code",
   "execution_count": 23,
   "metadata": {},
   "outputs": [
    {
     "name": "stdout",
     "output_type": "stream",
     "text": [
      "          Season  CDC_Week Week_Ending_Date                Disease  Count\n",
      "5059   2009-2010         1       01/09/2010  INFLUENZA_UNSPECIFIED      0\n",
      "10915  2009-2010         1       01/09/2010            INFLUENZA_B      0\n",
      "14951  2009-2010         1       01/09/2010            INFLUENZA_A     49\n",
      "20535  2009-2010         2       01/16/2010            INFLUENZA_B      0\n",
      "27181  2009-2010         2       01/16/2010  INFLUENZA_UNSPECIFIED      0\n",
      "          Season  CDC_Week Week_Ending_Date                Disease  Count\n",
      "60042  2019-2020        51       12/21/2019  INFLUENZA_UNSPECIFIED      1\n",
      "61568  2019-2020        51       12/21/2019            INFLUENZA_A    419\n",
      "58313  2019-2020        52       12/28/2019  INFLUENZA_UNSPECIFIED      0\n",
      "60094  2019-2020        52       12/28/2019            INFLUENZA_A    858\n",
      "61290  2019-2020        52       12/28/2019            INFLUENZA_B    670\n"
     ]
    }
   ],
   "source": [
    "print(subset_queens.head())\n",
    "print(subset_queens.tail())"
   ]
  },
  {
   "cell_type": "code",
   "execution_count": 24,
   "metadata": {},
   "outputs": [],
   "source": [
    "import seaborn as sns\n",
    "import matplotlib.pyplot as plt"
   ]
  },
  {
   "cell_type": "code",
   "execution_count": 25,
   "metadata": {},
   "outputs": [
    {
     "data": {
      "text/plain": [
       "<matplotlib.axes._subplots.AxesSubplot at 0x27588682fd0>"
      ]
     },
     "execution_count": 25,
     "metadata": {},
     "output_type": "execute_result"
    },
    {
     "data": {
      "image/png": "[encoded data removed]",
      "text/plain": [
       "<Figure size 1008x1008 with 1 Axes>"
      ]
     },
     "metadata": {},
     "output_type": "display_data"
    }
   ],
   "source": [
    "subset_queens.boxplot(by = 'Season', column = ['Count'], figsize = (14,14))"
   ]
  },
  {
   "cell_type": "code",
   "execution_count": 26,
   "metadata": {},
   "outputs": [],
   "source": [
    "# There seems to be plenty of outliers at a glance. Perhaps the higher\n",
    "# counts are at the peak of the season.\n",
    "\n",
    "# look at season for entire data set (not paying attention to counties)"
   ]
  },
  {
   "cell_type": "code",
   "execution_count": 27,
   "metadata": {},
   "outputs": [
    {
     "name": "stderr",
     "output_type": "stream",
     "text": [
      "C:\\Users\\kathu\\Anaconda3\\lib\\site-packages\\ipykernel_launcher.py:3: SettingWithCopyWarning: \n",
      "A value is trying to be set on a copy of a slice from a DataFrame\n",
      "\n",
      "See the caveats in the documentation: http://pandas.pydata.org/pandas-docs/stable/indexing.html#indexing-view-versus-copy\n",
      "  This is separate from the ipykernel package so we can avoid doing imports until\n"
     ]
    },
    {
     "data": {
      "text/html": [
       "<div>\n",
       "<style scoped>\n",
       "    .dataframe tbody tr th:only-of-type {\n",
       "        vertical-align: middle;\n",
       "    }\n",
       "\n",
       "    .dataframe tbody tr th {\n",
       "        vertical-align: top;\n",
       "    }\n",
       "\n",
       "    .dataframe thead th {\n",
       "        text-align: right;\n",
       "    }\n",
       "</style>\n",
       "<table border=\"1\" class=\"dataframe\">\n",
       "  <thead>\n",
       "    <tr style=\"text-align: right;\">\n",
       "      <th></th>\n",
       "      <th>Season</th>\n",
       "      <th>Count</th>\n",
       "    </tr>\n",
       "  </thead>\n",
       "  <tbody>\n",
       "    <tr>\n",
       "      <th>13332</th>\n",
       "      <td>2009-2010</td>\n",
       "      <td>0</td>\n",
       "    </tr>\n",
       "    <tr>\n",
       "      <th>12746</th>\n",
       "      <td>2009-2010</td>\n",
       "      <td>0</td>\n",
       "    </tr>\n",
       "    <tr>\n",
       "      <th>12748</th>\n",
       "      <td>2009-2010</td>\n",
       "      <td>0</td>\n",
       "    </tr>\n",
       "    <tr>\n",
       "      <th>12759</th>\n",
       "      <td>2009-2010</td>\n",
       "      <td>0</td>\n",
       "    </tr>\n",
       "    <tr>\n",
       "      <th>28760</th>\n",
       "      <td>2009-2010</td>\n",
       "      <td>0</td>\n",
       "    </tr>\n",
       "  </tbody>\n",
       "</table>\n",
       "</div>"
      ],
      "text/plain": [
       "          Season  Count\n",
       "13332  2009-2010      0\n",
       "12746  2009-2010      0\n",
       "12748  2009-2010      0\n",
       "12759  2009-2010      0\n",
       "28760  2009-2010      0"
      ]
     },
     "execution_count": 27,
     "metadata": {},
     "output_type": "execute_result"
    }
   ],
   "source": [
    "df_season_counts = df[[\"Season\", \"Count\"]]\n",
    "\n",
    "df_season_counts.sort_values(by=['Season'], inplace=True)\n",
    "\n",
    "df_season_counts.head()"
   ]
  },
  {
   "cell_type": "code",
   "execution_count": 28,
   "metadata": {},
   "outputs": [
    {
     "data": {
      "text/html": [
       "<div>\n",
       "<style scoped>\n",
       "    .dataframe tbody tr th:only-of-type {\n",
       "        vertical-align: middle;\n",
       "    }\n",
       "\n",
       "    .dataframe tbody tr th {\n",
       "        vertical-align: top;\n",
       "    }\n",
       "\n",
       "    .dataframe thead th {\n",
       "        text-align: right;\n",
       "    }\n",
       "</style>\n",
       "<table border=\"1\" class=\"dataframe\">\n",
       "  <thead>\n",
       "    <tr style=\"text-align: right;\">\n",
       "      <th></th>\n",
       "      <th>Season</th>\n",
       "      <th>Count</th>\n",
       "    </tr>\n",
       "  </thead>\n",
       "  <tbody>\n",
       "    <tr>\n",
       "      <th>59638</th>\n",
       "      <td>2019-2020</td>\n",
       "      <td>21</td>\n",
       "    </tr>\n",
       "    <tr>\n",
       "      <th>59639</th>\n",
       "      <td>2019-2020</td>\n",
       "      <td>4</td>\n",
       "    </tr>\n",
       "    <tr>\n",
       "      <th>59640</th>\n",
       "      <td>2019-2020</td>\n",
       "      <td>0</td>\n",
       "    </tr>\n",
       "    <tr>\n",
       "      <th>59628</th>\n",
       "      <td>2019-2020</td>\n",
       "      <td>0</td>\n",
       "    </tr>\n",
       "    <tr>\n",
       "      <th>62285</th>\n",
       "      <td>2019-2020</td>\n",
       "      <td>0</td>\n",
       "    </tr>\n",
       "  </tbody>\n",
       "</table>\n",
       "</div>"
      ],
      "text/plain": [
       "          Season  Count\n",
       "59638  2019-2020     21\n",
       "59639  2019-2020      4\n",
       "59640  2019-2020      0\n",
       "59628  2019-2020      0\n",
       "62285  2019-2020      0"
      ]
     },
     "execution_count": 28,
     "metadata": {},
     "output_type": "execute_result"
    }
   ],
   "source": [
    "df_season_counts.tail()"
   ]
  },
  {
   "cell_type": "code",
   "execution_count": 29,
   "metadata": {},
   "outputs": [
    {
     "data": {
      "text/plain": [
       "<matplotlib.axes._subplots.AxesSubplot at 0x27588e3db70>"
      ]
     },
     "execution_count": 29,
     "metadata": {},
     "output_type": "execute_result"
    },
    {
     "data": {
      "image/png": "[encoded data removed]",
      "text/plain": [
       "<Figure size 1008x1008 with 1 Axes>"
      ]
     },
     "metadata": {},
     "output_type": "display_data"
    }
   ],
   "source": [
    "df_season_counts.boxplot(by = 'Season', column = ['Count'], figsize = (14,14),showfliers = False)"
   ]
  },
  {
   "cell_type": "markdown",
   "metadata": {},
   "source": [
    "Box plots are not looking right. This probably will require more work if I need box plots in the future, but another option to visualize my data is through sns barplots. I will look at barplots for confirmed flu cases across all of New York State, as well as Qeens, New York. "
   ]
  },
  {
   "cell_type": "code",
   "execution_count": 85,
   "metadata": {},
   "outputs": [
    {
     "data": {
      "image/png": "[encoded data removed]",
      "text/plain": [
       "<Figure size 1080x720 with 1 Axes>"
      ]
     },
     "metadata": {},
     "output_type": "display_data"
    }
   ],
   "source": [
    "sns.set(style = \"whitegrid\")\n",
    "data = df_season_counts\n",
    "fig, ax = plt.subplots()\n",
    "fig.set_size_inches(15,10)\n",
    "ax = sns.barplot(x = \"Season\", y = \"Count\", data = data).set_title(\"Mean Weekly Count of Confirmed Flu Cases Per Season in NY\")\n"
   ]
  },
  {
   "cell_type": "markdown",
   "metadata": {},
   "source": [
    "This reveals the count mean and standard deviation (lines), so I want to make sure the actual counts/sum of confirmed cases per season also reflects this. Below I take the sum of the confirmed cases for each season, and print the result!\n",
    "It also is doing it over all reports (so each county for each season will have three reports in a given week for each strain). This representation is convoluted. For this preliminary EDA, it would be best to simply visualize the total number of cases for each season. "
   ]
  },
  {
   "cell_type": "code",
   "execution_count": 89,
   "metadata": {},
   "outputs": [
    {
     "data": {
      "text/html": [
       "<div>\n",
       "<style scoped>\n",
       "    .dataframe tbody tr th:only-of-type {\n",
       "        vertical-align: middle;\n",
       "    }\n",
       "\n",
       "    .dataframe tbody tr th {\n",
       "        vertical-align: top;\n",
       "    }\n",
       "\n",
       "    .dataframe thead th {\n",
       "        text-align: right;\n",
       "    }\n",
       "</style>\n",
       "<table border=\"1\" class=\"dataframe\">\n",
       "  <thead>\n",
       "    <tr style=\"text-align: right;\">\n",
       "      <th></th>\n",
       "      <th>Season</th>\n",
       "      <th>Count</th>\n",
       "    </tr>\n",
       "  </thead>\n",
       "  <tbody>\n",
       "    <tr>\n",
       "      <th>13332</th>\n",
       "      <td>2009-2010</td>\n",
       "      <td>0</td>\n",
       "    </tr>\n",
       "    <tr>\n",
       "      <th>12746</th>\n",
       "      <td>2009-2010</td>\n",
       "      <td>0</td>\n",
       "    </tr>\n",
       "    <tr>\n",
       "      <th>12748</th>\n",
       "      <td>2009-2010</td>\n",
       "      <td>0</td>\n",
       "    </tr>\n",
       "    <tr>\n",
       "      <th>12759</th>\n",
       "      <td>2009-2010</td>\n",
       "      <td>0</td>\n",
       "    </tr>\n",
       "    <tr>\n",
       "      <th>28760</th>\n",
       "      <td>2009-2010</td>\n",
       "      <td>0</td>\n",
       "    </tr>\n",
       "    <tr>\n",
       "      <th>12776</th>\n",
       "      <td>2009-2010</td>\n",
       "      <td>0</td>\n",
       "    </tr>\n",
       "    <tr>\n",
       "      <th>12782</th>\n",
       "      <td>2009-2010</td>\n",
       "      <td>0</td>\n",
       "    </tr>\n",
       "    <tr>\n",
       "      <th>28757</th>\n",
       "      <td>2009-2010</td>\n",
       "      <td>0</td>\n",
       "    </tr>\n",
       "    <tr>\n",
       "      <th>12792</th>\n",
       "      <td>2009-2010</td>\n",
       "      <td>0</td>\n",
       "    </tr>\n",
       "    <tr>\n",
       "      <th>12794</th>\n",
       "      <td>2009-2010</td>\n",
       "      <td>0</td>\n",
       "    </tr>\n",
       "    <tr>\n",
       "      <th>12798</th>\n",
       "      <td>2009-2010</td>\n",
       "      <td>3</td>\n",
       "    </tr>\n",
       "    <tr>\n",
       "      <th>12800</th>\n",
       "      <td>2009-2010</td>\n",
       "      <td>6</td>\n",
       "    </tr>\n",
       "    <tr>\n",
       "      <th>12801</th>\n",
       "      <td>2009-2010</td>\n",
       "      <td>1</td>\n",
       "    </tr>\n",
       "    <tr>\n",
       "      <th>12804</th>\n",
       "      <td>2009-2010</td>\n",
       "      <td>0</td>\n",
       "    </tr>\n",
       "    <tr>\n",
       "      <th>12808</th>\n",
       "      <td>2009-2010</td>\n",
       "      <td>0</td>\n",
       "    </tr>\n",
       "    <tr>\n",
       "      <th>12809</th>\n",
       "      <td>2009-2010</td>\n",
       "      <td>1</td>\n",
       "    </tr>\n",
       "    <tr>\n",
       "      <th>28766</th>\n",
       "      <td>2009-2010</td>\n",
       "      <td>0</td>\n",
       "    </tr>\n",
       "    <tr>\n",
       "      <th>12725</th>\n",
       "      <td>2009-2010</td>\n",
       "      <td>0</td>\n",
       "    </tr>\n",
       "    <tr>\n",
       "      <th>12721</th>\n",
       "      <td>2009-2010</td>\n",
       "      <td>29</td>\n",
       "    </tr>\n",
       "    <tr>\n",
       "      <th>12720</th>\n",
       "      <td>2009-2010</td>\n",
       "      <td>0</td>\n",
       "    </tr>\n",
       "    <tr>\n",
       "      <th>12672</th>\n",
       "      <td>2009-2010</td>\n",
       "      <td>0</td>\n",
       "    </tr>\n",
       "    <tr>\n",
       "      <th>12673</th>\n",
       "      <td>2009-2010</td>\n",
       "      <td>0</td>\n",
       "    </tr>\n",
       "    <tr>\n",
       "      <th>12674</th>\n",
       "      <td>2009-2010</td>\n",
       "      <td>0</td>\n",
       "    </tr>\n",
       "    <tr>\n",
       "      <th>12675</th>\n",
       "      <td>2009-2010</td>\n",
       "      <td>0</td>\n",
       "    </tr>\n",
       "    <tr>\n",
       "      <th>12677</th>\n",
       "      <td>2009-2010</td>\n",
       "      <td>0</td>\n",
       "    </tr>\n",
       "    <tr>\n",
       "      <th>12684</th>\n",
       "      <td>2009-2010</td>\n",
       "      <td>0</td>\n",
       "    </tr>\n",
       "    <tr>\n",
       "      <th>12688</th>\n",
       "      <td>2009-2010</td>\n",
       "      <td>0</td>\n",
       "    </tr>\n",
       "    <tr>\n",
       "      <th>28754</th>\n",
       "      <td>2009-2010</td>\n",
       "      <td>0</td>\n",
       "    </tr>\n",
       "    <tr>\n",
       "      <th>28772</th>\n",
       "      <td>2009-2010</td>\n",
       "      <td>3</td>\n",
       "    </tr>\n",
       "    <tr>\n",
       "      <th>12694</th>\n",
       "      <td>2009-2010</td>\n",
       "      <td>0</td>\n",
       "    </tr>\n",
       "    <tr>\n",
       "      <th>...</th>\n",
       "      <td>...</td>\n",
       "      <td>...</td>\n",
       "    </tr>\n",
       "    <tr>\n",
       "      <th>2307</th>\n",
       "      <td>2009-2010</td>\n",
       "      <td>90</td>\n",
       "    </tr>\n",
       "    <tr>\n",
       "      <th>374</th>\n",
       "      <td>2009-2010</td>\n",
       "      <td>36</td>\n",
       "    </tr>\n",
       "    <tr>\n",
       "      <th>53</th>\n",
       "      <td>2009-2010</td>\n",
       "      <td>0</td>\n",
       "    </tr>\n",
       "    <tr>\n",
       "      <th>44</th>\n",
       "      <td>2009-2010</td>\n",
       "      <td>0</td>\n",
       "    </tr>\n",
       "    <tr>\n",
       "      <th>3799</th>\n",
       "      <td>2009-2010</td>\n",
       "      <td>0</td>\n",
       "    </tr>\n",
       "    <tr>\n",
       "      <th>5022</th>\n",
       "      <td>2009-2010</td>\n",
       "      <td>0</td>\n",
       "    </tr>\n",
       "    <tr>\n",
       "      <th>379</th>\n",
       "      <td>2009-2010</td>\n",
       "      <td>0</td>\n",
       "    </tr>\n",
       "    <tr>\n",
       "      <th>2077</th>\n",
       "      <td>2009-2010</td>\n",
       "      <td>0</td>\n",
       "    </tr>\n",
       "    <tr>\n",
       "      <th>3793</th>\n",
       "      <td>2009-2010</td>\n",
       "      <td>0</td>\n",
       "    </tr>\n",
       "    <tr>\n",
       "      <th>3893</th>\n",
       "      <td>2009-2010</td>\n",
       "      <td>0</td>\n",
       "    </tr>\n",
       "    <tr>\n",
       "      <th>42</th>\n",
       "      <td>2009-2010</td>\n",
       "      <td>0</td>\n",
       "    </tr>\n",
       "    <tr>\n",
       "      <th>3802</th>\n",
       "      <td>2009-2010</td>\n",
       "      <td>0</td>\n",
       "    </tr>\n",
       "    <tr>\n",
       "      <th>4362</th>\n",
       "      <td>2009-2010</td>\n",
       "      <td>4</td>\n",
       "    </tr>\n",
       "    <tr>\n",
       "      <th>3794</th>\n",
       "      <td>2009-2010</td>\n",
       "      <td>0</td>\n",
       "    </tr>\n",
       "    <tr>\n",
       "      <th>1996</th>\n",
       "      <td>2009-2010</td>\n",
       "      <td>0</td>\n",
       "    </tr>\n",
       "    <tr>\n",
       "      <th>5034</th>\n",
       "      <td>2009-2010</td>\n",
       "      <td>1</td>\n",
       "    </tr>\n",
       "    <tr>\n",
       "      <th>2221</th>\n",
       "      <td>2009-2010</td>\n",
       "      <td>0</td>\n",
       "    </tr>\n",
       "    <tr>\n",
       "      <th>2130</th>\n",
       "      <td>2009-2010</td>\n",
       "      <td>0</td>\n",
       "    </tr>\n",
       "    <tr>\n",
       "      <th>160</th>\n",
       "      <td>2009-2010</td>\n",
       "      <td>0</td>\n",
       "    </tr>\n",
       "    <tr>\n",
       "      <th>1870</th>\n",
       "      <td>2009-2010</td>\n",
       "      <td>0</td>\n",
       "    </tr>\n",
       "    <tr>\n",
       "      <th>1856</th>\n",
       "      <td>2009-2010</td>\n",
       "      <td>5</td>\n",
       "    </tr>\n",
       "    <tr>\n",
       "      <th>1977</th>\n",
       "      <td>2009-2010</td>\n",
       "      <td>17</td>\n",
       "    </tr>\n",
       "    <tr>\n",
       "      <th>4493</th>\n",
       "      <td>2009-2010</td>\n",
       "      <td>0</td>\n",
       "    </tr>\n",
       "    <tr>\n",
       "      <th>3705</th>\n",
       "      <td>2009-2010</td>\n",
       "      <td>0</td>\n",
       "    </tr>\n",
       "    <tr>\n",
       "      <th>380</th>\n",
       "      <td>2009-2010</td>\n",
       "      <td>5</td>\n",
       "    </tr>\n",
       "    <tr>\n",
       "      <th>51</th>\n",
       "      <td>2009-2010</td>\n",
       "      <td>0</td>\n",
       "    </tr>\n",
       "    <tr>\n",
       "      <th>158</th>\n",
       "      <td>2009-2010</td>\n",
       "      <td>1</td>\n",
       "    </tr>\n",
       "    <tr>\n",
       "      <th>2304</th>\n",
       "      <td>2009-2010</td>\n",
       "      <td>0</td>\n",
       "    </tr>\n",
       "    <tr>\n",
       "      <th>1857</th>\n",
       "      <td>2009-2010</td>\n",
       "      <td>2</td>\n",
       "    </tr>\n",
       "    <tr>\n",
       "      <th>4355</th>\n",
       "      <td>2009-2010</td>\n",
       "      <td>0</td>\n",
       "    </tr>\n",
       "  </tbody>\n",
       "</table>\n",
       "<p>6138 rows × 2 columns</p>\n",
       "</div>"
      ],
      "text/plain": [
       "          Season  Count\n",
       "13332  2009-2010      0\n",
       "12746  2009-2010      0\n",
       "12748  2009-2010      0\n",
       "12759  2009-2010      0\n",
       "28760  2009-2010      0\n",
       "12776  2009-2010      0\n",
       "12782  2009-2010      0\n",
       "28757  2009-2010      0\n",
       "12792  2009-2010      0\n",
       "12794  2009-2010      0\n",
       "12798  2009-2010      3\n",
       "12800  2009-2010      6\n",
       "12801  2009-2010      1\n",
       "12804  2009-2010      0\n",
       "12808  2009-2010      0\n",
       "12809  2009-2010      1\n",
       "28766  2009-2010      0\n",
       "12725  2009-2010      0\n",
       "12721  2009-2010     29\n",
       "12720  2009-2010      0\n",
       "12672  2009-2010      0\n",
       "12673  2009-2010      0\n",
       "12674  2009-2010      0\n",
       "12675  2009-2010      0\n",
       "12677  2009-2010      0\n",
       "12684  2009-2010      0\n",
       "12688  2009-2010      0\n",
       "28754  2009-2010      0\n",
       "28772  2009-2010      3\n",
       "12694  2009-2010      0\n",
       "...          ...    ...\n",
       "2307   2009-2010     90\n",
       "374    2009-2010     36\n",
       "53     2009-2010      0\n",
       "44     2009-2010      0\n",
       "3799   2009-2010      0\n",
       "5022   2009-2010      0\n",
       "379    2009-2010      0\n",
       "2077   2009-2010      0\n",
       "3793   2009-2010      0\n",
       "3893   2009-2010      0\n",
       "42     2009-2010      0\n",
       "3802   2009-2010      0\n",
       "4362   2009-2010      4\n",
       "3794   2009-2010      0\n",
       "1996   2009-2010      0\n",
       "5034   2009-2010      1\n",
       "2221   2009-2010      0\n",
       "2130   2009-2010      0\n",
       "160    2009-2010      0\n",
       "1870   2009-2010      0\n",
       "1856   2009-2010      5\n",
       "1977   2009-2010     17\n",
       "4493   2009-2010      0\n",
       "3705   2009-2010      0\n",
       "380    2009-2010      5\n",
       "51     2009-2010      0\n",
       "158    2009-2010      1\n",
       "2304   2009-2010      0\n",
       "1857   2009-2010      2\n",
       "4355   2009-2010      0\n",
       "\n",
       "[6138 rows x 2 columns]"
      ]
     },
     "execution_count": 89,
     "metadata": {},
     "output_type": "execute_result"
    }
   ],
   "source": [
    "df_10 = df_season_counts.loc[(df_season_counts[\"Season\"]==\"2009-2010\")]\n",
    "df_10.describe()\n",
    "df_10"
   ]
  },
  {
   "cell_type": "code",
   "execution_count": 81,
   "metadata": {},
   "outputs": [],
   "source": [
    "count_2020 = df_season_counts.loc[(df_season_counts[\"Season\"] == \"2019-2020\")].sum(axis = 0)\n",
    "count_2019 = df_season_counts.loc[(df_season_counts[\"Season\"] == \"2018-2019\")].sum(axis = 0)\n",
    "count_2018 = df_season_counts.loc[(df_season_counts[\"Season\"] == \"2017-2018\")].sum(axis = 0)\n",
    "count_2017 = df_season_counts.loc[(df_season_counts[\"Season\"] == \"2016-2017\")].sum(axis = 0)\n",
    "count_2016 = df_season_counts.loc[(df_season_counts[\"Season\"] == \"2015-2016\")].sum(axis = 0)\n",
    "count_2015 = df_season_counts.loc[(df_season_counts[\"Season\"] == \"2014-2015\")].sum(axis = 0)\n",
    "count_2014 = df_season_counts.loc[(df_season_counts[\"Season\"] == \"2013-2014\")].sum(axis = 0)\n",
    "count_2013 = df_season_counts.loc[(df_season_counts[\"Season\"] == \"2012-2013\")].sum(axis = 0)\n",
    "count_2012 = df_season_counts.loc[(df_season_counts[\"Season\"] == \"2011-2012\")].sum(axis = 0)\n",
    "count_2011 = df_season_counts.loc[(df_season_counts[\"Season\"] == \"2010-2011\")].sum(axis = 0)\n",
    "count_2010 = df_season_counts.loc[(df_season_counts[\"Season\"] == \"2009-2010\")].sum(axis = 0)"
   ]
  },
  {
   "cell_type": "code",
   "execution_count": 82,
   "metadata": {},
   "outputs": [
    {
     "name": "stdout",
     "output_type": "stream",
     "text": [
      "Number of confirmed flu cases in 2009-2010 season:  25307\n",
      "Number of confirmed flu cases in 2010-2011 season:  20328\n",
      "Number of confirmed flu cases in 2011-2012 season:  4037\n",
      "Number of confirmed flu cases in 2012-2013 season:  45349\n",
      "Number of confirmed flu cases in 2013-2014 season:  36655\n",
      "Number of confirmed flu cases in 2014-2015 season:  41186\n",
      "Number of confirmed flu cases in 2015-2016 season:  48012\n",
      "Number of confirmed flu cases in 2016-2017 season:  64765\n",
      "Number of confirmed flu cases in 2017-2018 season:  128247\n",
      "Number of confirmed flu cases in 2018-2019 season:  107805\n",
      "Number of confirmed flu cases so far in the 2019-2020 season:  57378\n"
     ]
    }
   ],
   "source": [
    "print(\"Number of confirmed flu cases in 2009-2010 season: \", count_2010[\"Count\"])\n",
    "print(\"Number of confirmed flu cases in 2010-2011 season: \", count_2011[\"Count\"])\n",
    "print(\"Number of confirmed flu cases in 2011-2012 season: \", count_2012[\"Count\"])\n",
    "print(\"Number of confirmed flu cases in 2012-2013 season: \", count_2013[\"Count\"])\n",
    "print(\"Number of confirmed flu cases in 2013-2014 season: \", count_2014[\"Count\"])\n",
    "print(\"Number of confirmed flu cases in 2014-2015 season: \", count_2015[\"Count\"])\n",
    "print(\"Number of confirmed flu cases in 2015-2016 season: \", count_2016[\"Count\"])\n",
    "print(\"Number of confirmed flu cases in 2016-2017 season: \", count_2017[\"Count\"])\n",
    "print(\"Number of confirmed flu cases in 2017-2018 season: \", count_2018[\"Count\"])\n",
    "print(\"Number of confirmed flu cases in 2018-2019 season: \", count_2019[\"Count\"])\n",
    "print(\"Number of confirmed flu cases so far in the 2019-2020 season: \", count_2020[\"Count\"])"
   ]
  },
  {
   "cell_type": "code",
   "execution_count": 83,
   "metadata": {},
   "outputs": [
    {
     "data": {
      "text/html": [
       "<div>\n",
       "<style scoped>\n",
       "    .dataframe tbody tr th:only-of-type {\n",
       "        vertical-align: middle;\n",
       "    }\n",
       "\n",
       "    .dataframe tbody tr th {\n",
       "        vertical-align: top;\n",
       "    }\n",
       "\n",
       "    .dataframe thead th {\n",
       "        text-align: right;\n",
       "    }\n",
       "</style>\n",
       "<table border=\"1\" class=\"dataframe\">\n",
       "  <thead>\n",
       "    <tr style=\"text-align: right;\">\n",
       "      <th></th>\n",
       "      <th>Season</th>\n",
       "      <th>Sum</th>\n",
       "    </tr>\n",
       "  </thead>\n",
       "  <tbody>\n",
       "    <tr>\n",
       "      <th>0</th>\n",
       "      <td>2009-2010</td>\n",
       "      <td>2537</td>\n",
       "    </tr>\n",
       "    <tr>\n",
       "      <th>1</th>\n",
       "      <td>2010-2011</td>\n",
       "      <td>20328</td>\n",
       "    </tr>\n",
       "    <tr>\n",
       "      <th>2</th>\n",
       "      <td>2011-2012</td>\n",
       "      <td>4037</td>\n",
       "    </tr>\n",
       "    <tr>\n",
       "      <th>3</th>\n",
       "      <td>2012-2013</td>\n",
       "      <td>45349</td>\n",
       "    </tr>\n",
       "    <tr>\n",
       "      <th>4</th>\n",
       "      <td>2013-2014</td>\n",
       "      <td>36655</td>\n",
       "    </tr>\n",
       "    <tr>\n",
       "      <th>5</th>\n",
       "      <td>2014-2015</td>\n",
       "      <td>41186</td>\n",
       "    </tr>\n",
       "    <tr>\n",
       "      <th>6</th>\n",
       "      <td>2015-2016</td>\n",
       "      <td>48012</td>\n",
       "    </tr>\n",
       "    <tr>\n",
       "      <th>7</th>\n",
       "      <td>2016-2017</td>\n",
       "      <td>64765</td>\n",
       "    </tr>\n",
       "    <tr>\n",
       "      <th>8</th>\n",
       "      <td>2017-2018</td>\n",
       "      <td>128247</td>\n",
       "    </tr>\n",
       "    <tr>\n",
       "      <th>9</th>\n",
       "      <td>2018-2019</td>\n",
       "      <td>107805</td>\n",
       "    </tr>\n",
       "    <tr>\n",
       "      <th>10</th>\n",
       "      <td>2019-2020</td>\n",
       "      <td>57378</td>\n",
       "    </tr>\n",
       "  </tbody>\n",
       "</table>\n",
       "</div>"
      ],
      "text/plain": [
       "       Season     Sum\n",
       "0   2009-2010    2537\n",
       "1   2010-2011   20328\n",
       "2   2011-2012    4037\n",
       "3   2012-2013   45349\n",
       "4   2013-2014   36655\n",
       "5   2014-2015   41186\n",
       "6   2015-2016   48012\n",
       "7   2016-2017   64765\n",
       "8   2017-2018  128247\n",
       "9   2018-2019  107805\n",
       "10  2019-2020   57378"
      ]
     },
     "execution_count": 83,
     "metadata": {},
     "output_type": "execute_result"
    }
   ],
   "source": [
    "data = [[\"2009-2010\", 2537], [\"2010-2011\", 20328], [\"2011-2012\", 4037], [\"2012-2013\", 45349], [\"2013-2014\", 36655],\n",
    "        [\"2014-2015\", 41186], [\"2015-2016\", 48012], [\"2016-2017\", 64765], [\"2017-2018\", 128247], [\"2018-2019\", 107805],\n",
    "        [\"2019-2020\", 57378]]\n",
    "df = pd.DataFrame(data, columns = ['Season', 'Sum'])\n",
    "df"
   ]
  },
  {
   "cell_type": "code",
   "execution_count": 84,
   "metadata": {},
   "outputs": [
    {
     "data": {
      "image/png": "[encoded data removed]",
      "text/plain": [
       "<Figure size 1080x720 with 1 Axes>"
      ]
     },
     "metadata": {},
     "output_type": "display_data"
    }
   ],
   "source": [
    "sns.set(style = \"whitegrid\")\n",
    "data = df\n",
    "fig, ax = plt.subplots()\n",
    "fig.set_size_inches(15,10)\n",
    "ax = sns.barplot(x = \"Season\", y = \"Sum\", data = data).set_title(\"Sum of Confirmed Flu Cases Per Season in NY State\")"
   ]
  },
  {
   "cell_type": "markdown",
   "metadata": {},
   "source": [
    "This looks about right! It differs in that some weekly means will be higher and not entirely representative of the overal sum of the cases. Of course, the count for this current season (2019-2020) will be lower, because it is not over yet. This is why the barplot is helpful, because according to the mean count per cdc week, we can expect that this flu season will have a similar number of confirmed cases as 2017-2018 season. "
   ]
  },
  {
   "cell_type": "code",
   "execution_count": 73,
   "metadata": {},
   "outputs": [
    {
     "data": {
      "image/png": "[encoded data removed]",
      "text/plain": [
       "<Figure size 1080x720 with 1 Axes>"
      ]
     },
     "metadata": {},
     "output_type": "display_data"
    }
   ],
   "source": [
    "sns.set(style = \"whitegrid\")\n",
    "data = subset_queens\n",
    "fig, ax = plt.subplots()\n",
    "fig.set_size_inches(15,10)\n",
    "ax = sns.barplot(x = \"Season\", y = \"Count\", data = data).set_title(\"Count of Confirmed Flu Cases Per Season in Queens, NY\")"
   ]
  },
  {
   "cell_type": "markdown",
   "metadata": {},
   "source": [
    "Looked at the mean count for Queens (as it had the highest mean and highest standard deviation). "
   ]
  },
  {
   "cell_type": "markdown",
   "metadata": {},
   "source": [
    "References Cited:\n",
    "1. HealthData.gov. Influenza Laboratory-Confirmed Cases By County: Beginning 2009-10 Season. (2020). Retrieved from [URL](https://healthdata.gov/dataset/influenza-laboratory-confirmed-cases-county-beginning-2009-10-season) on January 15, 2020. \n",
    "2. New York State Department of Health. Influenza Activity, Surveillance, and Reports. (2020). Retrieved from [URL](https://www.health.ny.gov/diseases/communicable/influenza/surveillance/) on January 15, 2020.\n",
    "3. Terence Shin. _An Extensive Step by Step Guide to Exploratory Data Analysis_. (2020). Retrieved from URL:\n",
    "https://towardsdatascience.com/an-extensive-guide-to-exploratory-data-analysis-ddd99a03199e on February 11, 2020.\n",
    "4. Pierre Sadrach, Ph.D. _Analyzing County-Level Flu Data in Python_. (2020). Medium. Retrieved from [URL](https://medium.com/swlh/analyzing-county-level-cdc-flu-data-in-python-8518dd8c43c7) on February 11, 2020."
   ]
  },
  {
   "cell_type": "code",
   "execution_count": null,
   "metadata": {},
   "outputs": [],
   "source": []
  }
 ],
 "metadata": {
  "kernelspec": {
   "display_name": "Python 3",
   "language": "python",
   "name": "python3"
  },
  "language_info": {
   "codemirror_mode": {
    "name": "ipython",
    "version": 3
   },
   "file_extension": ".py",
   "mimetype": "text/x-python",
   "name": "python",
   "nbconvert_exporter": "python",
   "pygments_lexer": "ipython3",
   "version": "3.6.5"
  }
 },
 "nbformat": 4,
 "nbformat_minor": 2
}
