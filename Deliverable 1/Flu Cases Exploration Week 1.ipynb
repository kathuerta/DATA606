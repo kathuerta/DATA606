{
 "cells": [
  {
   "cell_type": "markdown",
   "metadata": {},
   "source": [
    "# Capstone, Part 1, Week 1\n",
    "\n",
    "This dataset is provided by [healthdata.gov](https://healthdata.gov/dataset/influenza-laboratory-confirmed-cases-county-beginning-2009-10-season) and originates from [health.ny.gov](https://www.health.ny.gov/diseases/communicable/influenza/surveillance/). Dataset can be found on my github or [here](https://healthdata.gov/dataset/influenza-laboratory-confirmed-cases-county-beginning-2009-10-season). \n",
    "\n",
    "This dataset contains:\n",
    "* Season (Flu season ranging from October through the following May. For example, 2013-2014 means October 2013 - May 2014)\n",
    "* Region in NY State (Region of lab-confirmed cases. For example, Madison county is in the Central region of NY ![](Madison County Loc.jpg)\n",
    "* County (County in NY, for example, Madison County pictured above)\n",
    "* CDC Week (week number in season)\n",
    "* Week Ending Date\n",
    "* Disease (Influenza Strain - A or B)\n",
    "* Count (number of cases)\n",
    "* County Centroid (map coordinates)\n",
    "* FIPS (Federal Information Processing Standard - five digit FIPS code that uniquely identifies county and county equivalents in the United States)"
   ]
  },
  {
   "cell_type": "code",
   "execution_count": 1,
   "metadata": {},
   "outputs": [],
   "source": [
    "import pandas as pd\n",
    "import numpy as np\n",
    "\n",
    "flucases = pd.read_csv(\"flucases.csv\")"
   ]
  },
  {
   "cell_type": "code",
   "execution_count": 2,
   "metadata": {},
   "outputs": [
    {
     "data": {
      "text/html": [
       "<div>\n",
       "<style scoped>\n",
       "    .dataframe tbody tr th:only-of-type {\n",
       "        vertical-align: middle;\n",
       "    }\n",
       "\n",
       "    .dataframe tbody tr th {\n",
       "        vertical-align: top;\n",
       "    }\n",
       "\n",
       "    .dataframe thead th {\n",
       "        text-align: right;\n",
       "    }\n",
       "</style>\n",
       "<table border=\"1\" class=\"dataframe\">\n",
       "  <thead>\n",
       "    <tr style=\"text-align: right;\">\n",
       "      <th></th>\n",
       "      <th>Season</th>\n",
       "      <th>Region</th>\n",
       "      <th>County</th>\n",
       "      <th>CDC Week</th>\n",
       "      <th>Week Ending Date</th>\n",
       "      <th>Disease</th>\n",
       "      <th>Count</th>\n",
       "      <th>County Centroid</th>\n",
       "      <th>FIPS</th>\n",
       "    </tr>\n",
       "  </thead>\n",
       "  <tbody>\n",
       "    <tr>\n",
       "      <th>0</th>\n",
       "      <td>2013-2014</td>\n",
       "      <td>WESTERN</td>\n",
       "      <td>SENECA</td>\n",
       "      <td>10</td>\n",
       "      <td>03/08/2014</td>\n",
       "      <td>INFLUENZA_B</td>\n",
       "      <td>0</td>\n",
       "      <td>(42.7652, -76.8721)</td>\n",
       "      <td>36099</td>\n",
       "    </tr>\n",
       "    <tr>\n",
       "      <th>1</th>\n",
       "      <td>2011-2012</td>\n",
       "      <td>CAPITAL DISTRICT</td>\n",
       "      <td>HAMILTON</td>\n",
       "      <td>41</td>\n",
       "      <td>10/15/2011</td>\n",
       "      <td>INFLUENZA_B</td>\n",
       "      <td>0</td>\n",
       "      <td>(43.6578786, -74.5024556)</td>\n",
       "      <td>36041</td>\n",
       "    </tr>\n",
       "    <tr>\n",
       "      <th>2</th>\n",
       "      <td>2009-2010</td>\n",
       "      <td>CENTRAL</td>\n",
       "      <td>JEFFERSON</td>\n",
       "      <td>48</td>\n",
       "      <td>12/05/2009</td>\n",
       "      <td>INFLUENZA_A</td>\n",
       "      <td>3</td>\n",
       "      <td>(44.0607, -75.9928)</td>\n",
       "      <td>36045</td>\n",
       "    </tr>\n",
       "    <tr>\n",
       "      <th>3</th>\n",
       "      <td>2010-2011</td>\n",
       "      <td>CENTRAL</td>\n",
       "      <td>MADISON</td>\n",
       "      <td>51</td>\n",
       "      <td>12/25/2010</td>\n",
       "      <td>INFLUENZA_A</td>\n",
       "      <td>0</td>\n",
       "      <td>(42.9100255, -75.6635749)</td>\n",
       "      <td>36053</td>\n",
       "    </tr>\n",
       "    <tr>\n",
       "      <th>4</th>\n",
       "      <td>2013-2014</td>\n",
       "      <td>CAPITAL DISTRICT</td>\n",
       "      <td>DELAWARE</td>\n",
       "      <td>19</td>\n",
       "      <td>05/10/2014</td>\n",
       "      <td>INFLUENZA_A</td>\n",
       "      <td>1</td>\n",
       "      <td>(42.1939865, -74.966728)</td>\n",
       "      <td>36025</td>\n",
       "    </tr>\n",
       "  </tbody>\n",
       "</table>\n",
       "</div>"
      ],
      "text/plain": [
       "      Season            Region     County  CDC Week Week Ending Date  \\\n",
       "0  2013-2014           WESTERN     SENECA        10       03/08/2014   \n",
       "1  2011-2012  CAPITAL DISTRICT   HAMILTON        41       10/15/2011   \n",
       "2  2009-2010           CENTRAL  JEFFERSON        48       12/05/2009   \n",
       "3  2010-2011           CENTRAL    MADISON        51       12/25/2010   \n",
       "4  2013-2014  CAPITAL DISTRICT   DELAWARE        19       05/10/2014   \n",
       "\n",
       "       Disease  Count            County Centroid   FIPS  \n",
       "0  INFLUENZA_B      0        (42.7652, -76.8721)  36099  \n",
       "1  INFLUENZA_B      0  (43.6578786, -74.5024556)  36041  \n",
       "2  INFLUENZA_A      3        (44.0607, -75.9928)  36045  \n",
       "3  INFLUENZA_A      0  (42.9100255, -75.6635749)  36053  \n",
       "4  INFLUENZA_A      1   (42.1939865, -74.966728)  36025  "
      ]
     },
     "execution_count": 2,
     "metadata": {},
     "output_type": "execute_result"
    }
   ],
   "source": [
    "flucases.head()"
   ]
  },
  {
   "cell_type": "code",
   "execution_count": 3,
   "metadata": {},
   "outputs": [
    {
     "data": {
      "text/plain": [
       "(62286, 9)"
      ]
     },
     "execution_count": 3,
     "metadata": {},
     "output_type": "execute_result"
    }
   ],
   "source": [
    "flucases.shape"
   ]
  },
  {
   "cell_type": "code",
   "execution_count": 4,
   "metadata": {},
   "outputs": [],
   "source": [
    "# 62286 rows and 9 columns"
   ]
  },
  {
   "cell_type": "code",
   "execution_count": 5,
   "metadata": {},
   "outputs": [
    {
     "data": {
      "text/html": [
       "<div>\n",
       "<style scoped>\n",
       "    .dataframe tbody tr th:only-of-type {\n",
       "        vertical-align: middle;\n",
       "    }\n",
       "\n",
       "    .dataframe tbody tr th {\n",
       "        vertical-align: top;\n",
       "    }\n",
       "\n",
       "    .dataframe thead th {\n",
       "        text-align: right;\n",
       "    }\n",
       "</style>\n",
       "<table border=\"1\" class=\"dataframe\">\n",
       "  <thead>\n",
       "    <tr style=\"text-align: right;\">\n",
       "      <th></th>\n",
       "      <th>CDC Week</th>\n",
       "      <th>Count</th>\n",
       "      <th>FIPS</th>\n",
       "    </tr>\n",
       "  </thead>\n",
       "  <tbody>\n",
       "    <tr>\n",
       "      <th>count</th>\n",
       "      <td>62286.000000</td>\n",
       "      <td>62286.000000</td>\n",
       "      <td>62286.000000</td>\n",
       "    </tr>\n",
       "    <tr>\n",
       "      <th>mean</th>\n",
       "      <td>25.177825</td>\n",
       "      <td>9.296937</td>\n",
       "      <td>36063.378095</td>\n",
       "    </tr>\n",
       "    <tr>\n",
       "      <th>std</th>\n",
       "      <td>18.287463</td>\n",
       "      <td>47.650234</td>\n",
       "      <td>35.593393</td>\n",
       "    </tr>\n",
       "    <tr>\n",
       "      <th>min</th>\n",
       "      <td>1.000000</td>\n",
       "      <td>0.000000</td>\n",
       "      <td>36001.000000</td>\n",
       "    </tr>\n",
       "    <tr>\n",
       "      <th>25%</th>\n",
       "      <td>9.000000</td>\n",
       "      <td>0.000000</td>\n",
       "      <td>36033.000000</td>\n",
       "    </tr>\n",
       "    <tr>\n",
       "      <th>50%</th>\n",
       "      <td>18.000000</td>\n",
       "      <td>0.000000</td>\n",
       "      <td>36065.000000</td>\n",
       "    </tr>\n",
       "    <tr>\n",
       "      <th>75%</th>\n",
       "      <td>45.000000</td>\n",
       "      <td>2.000000</td>\n",
       "      <td>36095.000000</td>\n",
       "    </tr>\n",
       "    <tr>\n",
       "      <th>max</th>\n",
       "      <td>53.000000</td>\n",
       "      <td>1409.000000</td>\n",
       "      <td>36123.000000</td>\n",
       "    </tr>\n",
       "  </tbody>\n",
       "</table>\n",
       "</div>"
      ],
      "text/plain": [
       "           CDC Week         Count          FIPS\n",
       "count  62286.000000  62286.000000  62286.000000\n",
       "mean      25.177825      9.296937  36063.378095\n",
       "std       18.287463     47.650234     35.593393\n",
       "min        1.000000      0.000000  36001.000000\n",
       "25%        9.000000      0.000000  36033.000000\n",
       "50%       18.000000      0.000000  36065.000000\n",
       "75%       45.000000      2.000000  36095.000000\n",
       "max       53.000000   1409.000000  36123.000000"
      ]
     },
     "execution_count": 5,
     "metadata": {},
     "output_type": "execute_result"
    }
   ],
   "source": [
    "flucases.describe()"
   ]
  },
  {
   "cell_type": "code",
   "execution_count": 6,
   "metadata": {},
   "outputs": [
    {
     "name": "stdout",
     "output_type": "stream",
     "text": [
      "<class 'pandas.core.frame.DataFrame'>\n",
      "RangeIndex: 62286 entries, 0 to 62285\n",
      "Data columns (total 9 columns):\n",
      "Season              62286 non-null object\n",
      "Region              62286 non-null object\n",
      "County              62286 non-null object\n",
      "CDC Week            62286 non-null int64\n",
      "Week Ending Date    62286 non-null object\n",
      "Disease             62286 non-null object\n",
      "Count               62286 non-null int64\n",
      "County Centroid     62286 non-null object\n",
      "FIPS                62286 non-null int64\n",
      "dtypes: int64(3), object(6)\n",
      "memory usage: 4.3+ MB\n"
     ]
    }
   ],
   "source": [
    "flucases.info()"
   ]
  },
  {
   "cell_type": "code",
   "execution_count": 7,
   "metadata": {},
   "outputs": [
    {
     "data": {
      "text/plain": [
       "Season              0\n",
       "Region              0\n",
       "County              0\n",
       "CDC Week            0\n",
       "Week Ending Date    0\n",
       "Disease             0\n",
       "Count               0\n",
       "County Centroid     0\n",
       "FIPS                0\n",
       "dtype: int64"
      ]
     },
     "execution_count": 7,
     "metadata": {},
     "output_type": "execute_result"
    }
   ],
   "source": [
    "flucases.isna().sum()"
   ]
  },
  {
   "cell_type": "code",
   "execution_count": null,
   "metadata": {},
   "outputs": [],
   "source": []
  }
 ],
 "metadata": {
  "kernelspec": {
   "display_name": "Python 3",
   "language": "python",
   "name": "python3"
  },
  "language_info": {
   "codemirror_mode": {
    "name": "ipython",
    "version": 3
   },
   "file_extension": ".py",
   "mimetype": "text/x-python",
   "name": "python",
   "nbconvert_exporter": "python",
   "pygments_lexer": "ipython3",
   "version": "3.6.5"
  }
 },
 "nbformat": 4,
 "nbformat_minor": 2
}
